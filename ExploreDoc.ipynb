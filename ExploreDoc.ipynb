{
 "cells": [
  {
   "cell_type": "code",
   "execution_count": 11,
   "metadata": {
    "collapsed": false
   },
   "outputs": [],
   "source": [
    "import sys\n",
    "import os\n",
    "import numpy as np\n",
    "from collections import Counter\n",
    "import pickle\n",
    "import numpy as np\n",
    "from matplotlib import pyplot as plt "
   ]
  },
  {
   "cell_type": "code",
   "execution_count": 4,
   "metadata": {
    "collapsed": false
   },
   "outputs": [],
   "source": [
    "fileNames = []\n",
    "fileNameExtend =  []\n",
    "for (top, dirs, files) in os.walk(\"C:\\Awangjie\\GoldCorp\\Internal Documents Batch 2\"):\n",
    "    fileNames.extend(files)\n",
    "    \n",
    "for file in fileNames:\n",
    "    filename = str(os.path.splitext(file)[1][1:])\n",
    "    filename = filename.lower()\n",
    "    fileNameExtend.append(filename)\n",
    "\n",
    "print(\"File count is: \"+ str(len(fileNames)))"
   ]
  },
  {
   "cell_type": "code",
   "execution_count": 25,
   "metadata": {
    "collapsed": false,
    "scrolled": false
   },
   "outputs": [
    {
     "name": "stdout",
     "output_type": "stream",
     "text": [
      "Counter({'pptx': 161, 'pdf': 105, 'gvp': 56, 'db': 33, 'dm': 30, 'xlsx': 27, 'jpg': 22, 'docx': 17, 'lfsc': 8, 'xls': 7, 'msg': 6, 'png': 6, 'doc': 5, 'csv': 4, 'ppt': 3, 'exe': 2, 'cdr': 2, 'gvz': 2, 'zip': 1, 'pptm': 1, 'emf': 1, 'potx': 1})\n"
     ]
    }
   ],
   "source": [
    "print(Counter(fileNameExtend))"
   ]
  },
  {
   "cell_type": "markdown",
   "metadata": {},
   "source": [
    "** File Extend Name Cluster **\n",
    "> Image: cdr, emf, jpg, png, \n",
    "\n",
    "> Video: gvp, \n",
    "\n",
    "> Doc: doc, docx, pdf, potx, ppt, pptm, pptx\n",
    "\n",
    "> Table: csv, xls, xlsx\n",
    "\n",
    "> Database: db, dm\n",
    "\n",
    "> Other: exe, gvz, lfsc, msg. zip"
   ]
  },
  {
   "cell_type": "code",
   "execution_count": 7,
   "metadata": {
    "collapsed": true
   },
   "outputs": [],
   "source": [
    "valideFileExtend = ('doc', 'docx', 'pdf', 'potx', 'ppt', 'pptm', 'pptx', 'csv','xls','xlsx')"
   ]
  },
  {
   "cell_type": "code",
   "execution_count": 8,
   "metadata": {
    "collapsed": false
   },
   "outputs": [
    {
     "data": {
      "text/plain": [
       "331"
      ]
     },
     "execution_count": 8,
     "metadata": {},
     "output_type": "execute_result"
    }
   ],
   "source": [
    "   \n",
    "filePaths = []\n",
    "for (top, dirs, files) in os.walk(\"C:\\Awangjie\\GoldCorp\\Internal Documents Batch 2\"):\n",
    "    for file in files:\n",
    "        ext = str(os.path.splitext(file)[1][1:]).lower()\n",
    "        if ext in valideFileExtend:\n",
    "            path = top + '\\\\' + file\n",
    "            filePaths.append(str(path) )\n",
    "        \n",
    "len(filePaths)"
   ]
  },
  {
   "cell_type": "code",
   "execution_count": 10,
   "metadata": {
    "collapsed": false
   },
   "outputs": [
    {
     "data": {
      "text/plain": [
       "list"
      ]
     },
     "execution_count": 10,
     "metadata": {},
     "output_type": "execute_result"
    }
   ],
   "source": [
    "type(filePaths)"
   ]
  },
  {
   "cell_type": "code",
   "execution_count": 12,
   "metadata": {
    "collapsed": true
   },
   "outputs": [],
   "source": [
    "with open('filePaths', 'wb') as fp:\n",
    "    pickle.dump(filePaths, fp)"
   ]
  },
  {
   "cell_type": "code",
   "execution_count": 14,
   "metadata": {
    "collapsed": true
   },
   "outputs": [],
   "source": [
    "sizeList = []\n",
    "for i in range(0, len(filePaths)):\n",
    "    sizeList.append(os.path.getsize(filePaths[i]))"
   ]
  },
  {
   "cell_type": "code",
   "execution_count": 24,
   "metadata": {
    "collapsed": false
   },
   "outputs": [
    {
     "name": "stdout",
     "output_type": "stream",
     "text": [
      "C:\\Awangjie\\GoldCorp\\Internal Documents Batch 2\\2010 - Shaun Gallagher BSc. Thesis.pdf Size: 217615206\n",
      "C:\\Awangjie\\GoldCorp\\Internal Documents Batch 2\\2012 - Lizzie Stock PhD Thesis.pdf Size: 156503089\n",
      "C:\\Awangjie\\GoldCorp\\Internal Documents Batch 2\\2012 - Thomas Kirton - Gold Eagle Shaft Outcrop-b.pdf Size: 175691284\n",
      "C:\\Awangjie\\GoldCorp\\Internal Documents Batch 2\\2013 - Cole Derksen - EBN Tech Report.pdf Size: 109849655\n",
      "['C:\\\\Awangjie\\\\GoldCorp\\\\Internal Documents Batch 2\\\\2010 - Shaun Gallagher BSc. Thesis.pdf', 'C:\\\\Awangjie\\\\GoldCorp\\\\Internal Documents Batch 2\\\\2012 - Lizzie Stock PhD Thesis.pdf', 'C:\\\\Awangjie\\\\GoldCorp\\\\Internal Documents Batch 2\\\\2012 - Thomas Kirton - Gold Eagle Shaft Outcrop-b.pdf', 'C:\\\\Awangjie\\\\GoldCorp\\\\Internal Documents Batch 2\\\\2013 - Cole Derksen - EBN Tech Report.pdf']\n"
     ]
    }
   ],
   "source": [
    "bigFilePaths=[]\n",
    "for i in range(0, len(filePaths)):\n",
    "    if sizeList[i] > 1024*1024*100:\n",
    "        bigFilePaths.append(filePaths[i]) \n",
    "        print(filePaths[i] + ' Size: '+ str(sizeList[i]) )\n",
    "print(bigFilePaths)"
   ]
  },
  {
   "cell_type": "code",
   "execution_count": null,
   "metadata": {
    "collapsed": true
   },
   "outputs": [],
   "source": [
    "[filePaths[i] for i ]"
   ]
  },
  {
   "cell_type": "code",
   "execution_count": 21,
   "metadata": {
    "collapsed": false
   },
   "outputs": [
    {
     "data": {
      "image/png": "[encoded data removed]",
      "text/plain": [
       "<matplotlib.figure.Figure at 0x7cafd30>"
      ]
     },
     "metadata": {},
     "output_type": "display_data"
    }
   ],
   "source": [
    "bins = range(0, 1024*1024*240, 1024*1024*5 )\n",
    "plt.hist(sizeList, bins =  bins) \n",
    "plt.title(\"histogram\") \n",
    "plt.show()"
   ]
  },
  {
   "cell_type": "code",
   "execution_count": null,
   "metadata": {
    "collapsed": true
   },
   "outputs": [],
   "source": []
  }
 ],
 "metadata": {
  "kernelspec": {
   "display_name": "Python 3",
   "language": "python",
   "name": "python3"
  },
  "language_info": {
   "codemirror_mode": {
    "name": "ipython",
    "version": 3
   },
   "file_extension": ".py",
   "mimetype": "text/x-python",
   "name": "python",
   "nbconvert_exporter": "python",
   "pygments_lexer": "ipython3",
   "version": "3.6.3"
  }
 },
 "nbformat": 4,
 "nbformat_minor": 0
}
